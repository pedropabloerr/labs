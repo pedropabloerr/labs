{
 "cells": [
  {
   "cell_type": "markdown",
   "id": "e0ae620a",
   "metadata": {},
   "source": [
    "- 1. retrieve the data from this kaggle link\n",
    "- 2. install texblob onto your conda environment\n",
    "- 3. launch jupyter notebook in the same environment, and import pandas, matplotlib/seaborn and textblob"
   ]
  },
  {
   "cell_type": "code",
   "execution_count": null,
   "id": "f9078754",
   "metadata": {},
   "outputs": [],
   "source": [
    "from textblob import TextBlob\n",
    "import pandas as pd\n",
    "import numpy as np\n",
    "import seaborn as sns\n",
    "import matplotlib.pyplot as plt"
   ]
  },
  {
   "cell_type": "markdown",
   "id": "118b034f",
   "metadata": {},
   "source": [
    "- 4. read the data into a dataframe with pandas"
   ]
  },
  {
   "cell_type": "code",
   "execution_count": 2,
   "id": "e6516d9f",
   "metadata": {},
   "outputs": [],
   "source": [
    "df=pd.read_csv(\"Womens Clothing E-Commerce Reviews.csv\")"
   ]
  },
  {
   "cell_type": "markdown",
   "id": "54cca7c1",
   "metadata": {},
   "source": [
    "- use df.columns.str.lower() (or other preferred method) to standardise your column headers"
   ]
  },
  {
   "cell_type": "code",
   "execution_count": 3,
   "id": "adf83063",
   "metadata": {},
   "outputs": [],
   "source": [
    "df.columns = df.columns.str.replace(' ','_')"
   ]
  },
  {
   "cell_type": "code",
   "execution_count": 4,
   "id": "40ea623e",
   "metadata": {},
   "outputs": [],
   "source": [
    "cols=[]\n",
    "for i in range(len(df.columns)):\n",
    "    cols.append(df.columns[i].lower())"
   ]
  },
  {
   "cell_type": "code",
   "execution_count": 5,
   "id": "0e836540",
   "metadata": {},
   "outputs": [],
   "source": [
    "df.columns=cols"
   ]
  },
  {
   "cell_type": "markdown",
   "id": "ac7b8211",
   "metadata": {},
   "source": [
    "- filter the data frame to a relevant subset of columns required for our data scenario (image clothing_columns.png)"
   ]
  },
  {
   "cell_type": "code",
   "execution_count": 6,
   "id": "c609e511",
   "metadata": {},
   "outputs": [],
   "source": [
    "dfr=df[['title', 'review_text', 'rating', 'division_name', 'department_name']]"
   ]
  },
  {
   "cell_type": "markdown",
   "id": "68641677",
   "metadata": {},
   "source": [
    "- EDA - with descriptive statistics (eg describe(), shape, info()) and/or simple charts, explore and familiarise yourself with the data at your own pace - clarify what each column means/contains and what cleaning steps could be employed (and if needed for our scenario)"
   ]
  },
  {
   "cell_type": "code",
   "execution_count": 7,
   "id": "1d86c962",
   "metadata": {},
   "outputs": [
    {
     "data": {
      "text/plain": [
       "(23486, 5)"
      ]
     },
     "execution_count": 7,
     "metadata": {},
     "output_type": "execute_result"
    }
   ],
   "source": [
    "dfr.shape"
   ]
  },
  {
   "cell_type": "code",
   "execution_count": 8,
   "id": "6d646fa5",
   "metadata": {},
   "outputs": [
    {
     "name": "stdout",
     "output_type": "stream",
     "text": [
      "<class 'pandas.core.frame.DataFrame'>\n",
      "RangeIndex: 23486 entries, 0 to 23485\n",
      "Data columns (total 5 columns):\n",
      " #   Column           Non-Null Count  Dtype \n",
      "---  ------           --------------  ----- \n",
      " 0   title            19676 non-null  object\n",
      " 1   review_text      22641 non-null  object\n",
      " 2   rating           23486 non-null  int64 \n",
      " 3   division_name    23472 non-null  object\n",
      " 4   department_name  23472 non-null  object\n",
      "dtypes: int64(1), object(4)\n",
      "memory usage: 917.5+ KB\n"
     ]
    }
   ],
   "source": [
    "dfr.info()"
   ]
  },
  {
   "cell_type": "code",
   "execution_count": 9,
   "id": "d8aaf534",
   "metadata": {},
   "outputs": [
    {
     "name": "stderr",
     "output_type": "stream",
     "text": [
      "<ipython-input-9-6ff059d7683f>:1: SettingWithCopyWarning: \n",
      "A value is trying to be set on a copy of a slice from a DataFrame\n",
      "\n",
      "See the caveats in the documentation: https://pandas.pydata.org/pandas-docs/stable/user_guide/indexing.html#returning-a-view-versus-a-copy\n",
      "  dfr.dropna(subset=['title', 'review_text', 'division_name', 'department_name'], inplace=True)\n"
     ]
    }
   ],
   "source": [
    "dfr.dropna(subset=['title', 'review_text', 'division_name', 'department_name'], inplace=True)"
   ]
  },
  {
   "cell_type": "code",
   "execution_count": 10,
   "id": "29e04a44",
   "metadata": {},
   "outputs": [
    {
     "name": "stdout",
     "output_type": "stream",
     "text": [
      "<class 'pandas.core.frame.DataFrame'>\n",
      "Int64Index: 19662 entries, 2 to 23485\n",
      "Data columns (total 5 columns):\n",
      " #   Column           Non-Null Count  Dtype \n",
      "---  ------           --------------  ----- \n",
      " 0   title            19662 non-null  object\n",
      " 1   review_text      19662 non-null  object\n",
      " 2   rating           19662 non-null  int64 \n",
      " 3   division_name    19662 non-null  object\n",
      " 4   department_name  19662 non-null  object\n",
      "dtypes: int64(1), object(4)\n",
      "memory usage: 921.7+ KB\n"
     ]
    }
   ],
   "source": [
    "dfr.info()"
   ]
  },
  {
   "cell_type": "code",
   "execution_count": 11,
   "id": "daa1ae40",
   "metadata": {},
   "outputs": [
    {
     "data": {
      "text/html": [
       "<div>\n",
       "<style scoped>\n",
       "    .dataframe tbody tr th:only-of-type {\n",
       "        vertical-align: middle;\n",
       "    }\n",
       "\n",
       "    .dataframe tbody tr th {\n",
       "        vertical-align: top;\n",
       "    }\n",
       "\n",
       "    .dataframe thead th {\n",
       "        text-align: right;\n",
       "    }\n",
       "</style>\n",
       "<table border=\"1\" class=\"dataframe\">\n",
       "  <thead>\n",
       "    <tr style=\"text-align: right;\">\n",
       "      <th></th>\n",
       "      <th>index</th>\n",
       "      <th>title</th>\n",
       "      <th>review_text</th>\n",
       "      <th>rating</th>\n",
       "      <th>division_name</th>\n",
       "      <th>department_name</th>\n",
       "    </tr>\n",
       "  </thead>\n",
       "  <tbody>\n",
       "    <tr>\n",
       "      <th>0</th>\n",
       "      <td>2</td>\n",
       "      <td>Some major design flaws</td>\n",
       "      <td>I had such high hopes for this dress and reall...</td>\n",
       "      <td>3</td>\n",
       "      <td>General</td>\n",
       "      <td>Dresses</td>\n",
       "    </tr>\n",
       "    <tr>\n",
       "      <th>1</th>\n",
       "      <td>3</td>\n",
       "      <td>My favorite buy!</td>\n",
       "      <td>I love, love, love this jumpsuit. it's fun, fl...</td>\n",
       "      <td>5</td>\n",
       "      <td>General Petite</td>\n",
       "      <td>Bottoms</td>\n",
       "    </tr>\n",
       "    <tr>\n",
       "      <th>2</th>\n",
       "      <td>4</td>\n",
       "      <td>Flattering shirt</td>\n",
       "      <td>This shirt is very flattering to all due to th...</td>\n",
       "      <td>5</td>\n",
       "      <td>General</td>\n",
       "      <td>Tops</td>\n",
       "    </tr>\n",
       "    <tr>\n",
       "      <th>3</th>\n",
       "      <td>5</td>\n",
       "      <td>Not for the very petite</td>\n",
       "      <td>I love tracy reese dresses, but this one is no...</td>\n",
       "      <td>2</td>\n",
       "      <td>General</td>\n",
       "      <td>Dresses</td>\n",
       "    </tr>\n",
       "    <tr>\n",
       "      <th>4</th>\n",
       "      <td>6</td>\n",
       "      <td>Cagrcoal shimmer fun</td>\n",
       "      <td>I aded this in my basket at hte last mintue to...</td>\n",
       "      <td>5</td>\n",
       "      <td>General Petite</td>\n",
       "      <td>Tops</td>\n",
       "    </tr>\n",
       "    <tr>\n",
       "      <th>...</th>\n",
       "      <td>...</td>\n",
       "      <td>...</td>\n",
       "      <td>...</td>\n",
       "      <td>...</td>\n",
       "      <td>...</td>\n",
       "      <td>...</td>\n",
       "    </tr>\n",
       "    <tr>\n",
       "      <th>19657</th>\n",
       "      <td>23481</td>\n",
       "      <td>Great dress for many occasions</td>\n",
       "      <td>I was very happy to snag this dress at such a ...</td>\n",
       "      <td>5</td>\n",
       "      <td>General Petite</td>\n",
       "      <td>Dresses</td>\n",
       "    </tr>\n",
       "    <tr>\n",
       "      <th>19658</th>\n",
       "      <td>23482</td>\n",
       "      <td>Wish it was made of cotton</td>\n",
       "      <td>It reminds me of maternity clothes. soft, stre...</td>\n",
       "      <td>3</td>\n",
       "      <td>General Petite</td>\n",
       "      <td>Tops</td>\n",
       "    </tr>\n",
       "    <tr>\n",
       "      <th>19659</th>\n",
       "      <td>23483</td>\n",
       "      <td>Cute, but see through</td>\n",
       "      <td>This fit well, but the top was very see throug...</td>\n",
       "      <td>3</td>\n",
       "      <td>General Petite</td>\n",
       "      <td>Dresses</td>\n",
       "    </tr>\n",
       "    <tr>\n",
       "      <th>19660</th>\n",
       "      <td>23484</td>\n",
       "      <td>Very cute dress, perfect for summer parties an...</td>\n",
       "      <td>I bought this dress for a wedding i have this ...</td>\n",
       "      <td>3</td>\n",
       "      <td>General</td>\n",
       "      <td>Dresses</td>\n",
       "    </tr>\n",
       "    <tr>\n",
       "      <th>19661</th>\n",
       "      <td>23485</td>\n",
       "      <td>Please make more like this one!</td>\n",
       "      <td>This dress in a lovely platinum is feminine an...</td>\n",
       "      <td>5</td>\n",
       "      <td>General Petite</td>\n",
       "      <td>Dresses</td>\n",
       "    </tr>\n",
       "  </tbody>\n",
       "</table>\n",
       "<p>19662 rows × 6 columns</p>\n",
       "</div>"
      ],
      "text/plain": [
       "       index                                              title  \\\n",
       "0          2                            Some major design flaws   \n",
       "1          3                                   My favorite buy!   \n",
       "2          4                                   Flattering shirt   \n",
       "3          5                            Not for the very petite   \n",
       "4          6                               Cagrcoal shimmer fun   \n",
       "...      ...                                                ...   \n",
       "19657  23481                     Great dress for many occasions   \n",
       "19658  23482                         Wish it was made of cotton   \n",
       "19659  23483                              Cute, but see through   \n",
       "19660  23484  Very cute dress, perfect for summer parties an...   \n",
       "19661  23485                    Please make more like this one!   \n",
       "\n",
       "                                             review_text  rating  \\\n",
       "0      I had such high hopes for this dress and reall...       3   \n",
       "1      I love, love, love this jumpsuit. it's fun, fl...       5   \n",
       "2      This shirt is very flattering to all due to th...       5   \n",
       "3      I love tracy reese dresses, but this one is no...       2   \n",
       "4      I aded this in my basket at hte last mintue to...       5   \n",
       "...                                                  ...     ...   \n",
       "19657  I was very happy to snag this dress at such a ...       5   \n",
       "19658  It reminds me of maternity clothes. soft, stre...       3   \n",
       "19659  This fit well, but the top was very see throug...       3   \n",
       "19660  I bought this dress for a wedding i have this ...       3   \n",
       "19661  This dress in a lovely platinum is feminine an...       5   \n",
       "\n",
       "        division_name department_name  \n",
       "0             General         Dresses  \n",
       "1      General Petite         Bottoms  \n",
       "2             General            Tops  \n",
       "3             General         Dresses  \n",
       "4      General Petite            Tops  \n",
       "...               ...             ...  \n",
       "19657  General Petite         Dresses  \n",
       "19658  General Petite            Tops  \n",
       "19659  General Petite         Dresses  \n",
       "19660         General         Dresses  \n",
       "19661  General Petite         Dresses  \n",
       "\n",
       "[19662 rows x 6 columns]"
      ]
     },
     "execution_count": 11,
     "metadata": {},
     "output_type": "execute_result"
    }
   ],
   "source": [
    "dfr.reset_index()"
   ]
  },
  {
   "cell_type": "code",
   "execution_count": 12,
   "id": "287f068b",
   "metadata": {},
   "outputs": [
    {
     "data": {
      "image/png": "[encoded data removed]",
      "text/plain": [
       "<Figure size 1296x1080 with 1 Axes>"
      ]
     },
     "metadata": {
      "needs_background": "light"
     },
     "output_type": "display_data"
    }
   ],
   "source": [
    "dfr.hist(figsize=(18,15), bins='auto');"
   ]
  },
  {
   "cell_type": "markdown",
   "id": "996b4672",
   "metadata": {},
   "source": [
    "- use the pandas groupby function to summarise the average rating by division and department as a new dataframe (image clothing_rating_groupby.png)"
   ]
  },
  {
   "cell_type": "code",
   "execution_count": 44,
   "id": "13485f57",
   "metadata": {},
   "outputs": [],
   "source": [
    "dfr_gb = dfr.groupby(['division_name','department_name']).agg({'rating':'mean'}).reset_index()"
   ]
  },
  {
   "cell_type": "code",
   "execution_count": 45,
   "id": "a5072fc9",
   "metadata": {},
   "outputs": [
    {
     "data": {
      "text/html": [
       "<div>\n",
       "<style scoped>\n",
       "    .dataframe tbody tr th:only-of-type {\n",
       "        vertical-align: middle;\n",
       "    }\n",
       "\n",
       "    .dataframe tbody tr th {\n",
       "        vertical-align: top;\n",
       "    }\n",
       "\n",
       "    .dataframe thead th {\n",
       "        text-align: right;\n",
       "    }\n",
       "</style>\n",
       "<table border=\"1\" class=\"dataframe\">\n",
       "  <thead>\n",
       "    <tr style=\"text-align: right;\">\n",
       "      <th></th>\n",
       "      <th>division_name</th>\n",
       "      <th>department_name</th>\n",
       "      <th>rating</th>\n",
       "    </tr>\n",
       "  </thead>\n",
       "  <tbody>\n",
       "    <tr>\n",
       "      <th>0</th>\n",
       "      <td>General</td>\n",
       "      <td>Bottoms</td>\n",
       "      <td>4.263083</td>\n",
       "    </tr>\n",
       "    <tr>\n",
       "      <th>1</th>\n",
       "      <td>General</td>\n",
       "      <td>Dresses</td>\n",
       "      <td>4.150079</td>\n",
       "    </tr>\n",
       "    <tr>\n",
       "      <th>2</th>\n",
       "      <td>General</td>\n",
       "      <td>Jackets</td>\n",
       "      <td>4.239488</td>\n",
       "    </tr>\n",
       "    <tr>\n",
       "      <th>3</th>\n",
       "      <td>General</td>\n",
       "      <td>Tops</td>\n",
       "      <td>4.138255</td>\n",
       "    </tr>\n",
       "    <tr>\n",
       "      <th>4</th>\n",
       "      <td>General</td>\n",
       "      <td>Trend</td>\n",
       "      <td>3.875000</td>\n",
       "    </tr>\n",
       "    <tr>\n",
       "      <th>5</th>\n",
       "      <td>General Petite</td>\n",
       "      <td>Bottoms</td>\n",
       "      <td>4.336783</td>\n",
       "    </tr>\n",
       "    <tr>\n",
       "      <th>6</th>\n",
       "      <td>General Petite</td>\n",
       "      <td>Dresses</td>\n",
       "      <td>4.118314</td>\n",
       "    </tr>\n",
       "    <tr>\n",
       "      <th>7</th>\n",
       "      <td>General Petite</td>\n",
       "      <td>Intimate</td>\n",
       "      <td>4.223404</td>\n",
       "    </tr>\n",
       "    <tr>\n",
       "      <th>8</th>\n",
       "      <td>General Petite</td>\n",
       "      <td>Jackets</td>\n",
       "      <td>4.322289</td>\n",
       "    </tr>\n",
       "    <tr>\n",
       "      <th>9</th>\n",
       "      <td>General Petite</td>\n",
       "      <td>Tops</td>\n",
       "      <td>4.191582</td>\n",
       "    </tr>\n",
       "    <tr>\n",
       "      <th>10</th>\n",
       "      <td>General Petite</td>\n",
       "      <td>Trend</td>\n",
       "      <td>3.789474</td>\n",
       "    </tr>\n",
       "    <tr>\n",
       "      <th>11</th>\n",
       "      <td>Initmates</td>\n",
       "      <td>Intimate</td>\n",
       "      <td>4.263115</td>\n",
       "    </tr>\n",
       "  </tbody>\n",
       "</table>\n",
       "</div>"
      ],
      "text/plain": [
       "     division_name department_name    rating\n",
       "0          General         Bottoms  4.263083\n",
       "1          General         Dresses  4.150079\n",
       "2          General         Jackets  4.239488\n",
       "3          General            Tops  4.138255\n",
       "4          General           Trend  3.875000\n",
       "5   General Petite         Bottoms  4.336783\n",
       "6   General Petite         Dresses  4.118314\n",
       "7   General Petite        Intimate  4.223404\n",
       "8   General Petite         Jackets  4.322289\n",
       "9   General Petite            Tops  4.191582\n",
       "10  General Petite           Trend  3.789474\n",
       "11       Initmates        Intimate  4.263115"
      ]
     },
     "execution_count": 45,
     "metadata": {},
     "output_type": "execute_result"
    }
   ],
   "source": [
    "dfr_gb"
   ]
  },
  {
   "cell_type": "code",
   "execution_count": null,
   "id": "2b2bd0bc",
   "metadata": {},
   "outputs": [],
   "source": []
  },
  {
   "cell_type": "markdown",
   "id": "8c05456d",
   "metadata": {},
   "source": [
    "- this dataframe can be easily visualised as a bar chart - do so now (image clothing_rating_chart.png)"
   ]
  },
  {
   "cell_type": "code",
   "execution_count": 46,
   "id": "0dfad49e",
   "metadata": {},
   "outputs": [],
   "source": [
    "dfr_gb['div_dep']=dfr_gb['division_name'] + \" \" + dfr_gb['department_name']"
   ]
  },
  {
   "cell_type": "code",
   "execution_count": 47,
   "id": "6e1714eb",
   "metadata": {},
   "outputs": [
    {
     "data": {
      "text/plain": [
       "<AxesSubplot:ylabel='div_dep'>"
      ]
     },
     "execution_count": 47,
     "metadata": {},
     "output_type": "execute_result"
    },
    {
     "data": {
      "image/png": "[encoded data removed]",
      "text/plain": [
       "<Figure size 432x288 with 1 Axes>"
      ]
     },
     "metadata": {
      "needs_background": "light"
     },
     "output_type": "display_data"
    }
   ],
   "source": [
    "dfr_gb.plot(kind=\"barh\", y='rating', x='div_dep')"
   ]
  },
  {
   "cell_type": "markdown",
   "id": "02201ddd",
   "metadata": {},
   "source": [
    "- do a spot /sample check on the review column, index position 5 (hint: iloc/loc/at) to apply textblob over the selected review text (image clothing_sentiment_index5.png) Do this for at least 3 samples to evaluate the accuracy of the sentiment polarity and subjectivity against the text itself"
   ]
  },
  {
   "cell_type": "code",
   "execution_count": 88,
   "id": "fa1a38ef",
   "metadata": {},
   "outputs": [],
   "source": [
    "text=dfr.iloc[5]['review_text']"
   ]
  },
  {
   "cell_type": "code",
   "execution_count": 89,
   "id": "720b981b",
   "metadata": {},
   "outputs": [],
   "source": [
    "testimonial=TextBlob(text)"
   ]
  },
  {
   "cell_type": "code",
   "execution_count": 90,
   "id": "e8c72d45",
   "metadata": {},
   "outputs": [
    {
     "data": {
      "text/plain": [
       "Sentiment(polarity=0.17163461538461539, subjectivity=0.49615384615384617)"
      ]
     },
     "execution_count": 90,
     "metadata": {},
     "output_type": "execute_result"
    }
   ],
   "source": [
    "testimonial.sentiment"
   ]
  },
  {
   "cell_type": "markdown",
   "id": "e326e94c",
   "metadata": {},
   "source": [
    "- using dropna, remove any rows in your data which contain have null in the review column ( hint your new data will be 22641 rows)"
   ]
  },
  {
   "cell_type": "code",
   "execution_count": 91,
   "id": "b7d91e03",
   "metadata": {},
   "outputs": [
    {
     "data": {
      "text/plain": [
       "0"
      ]
     },
     "execution_count": 91,
     "metadata": {},
     "output_type": "execute_result"
    }
   ],
   "source": [
    "dfr['review_text'].isna().sum()\n",
    "#I dropped all nulls when cleaning the data. "
   ]
  },
  {
   "cell_type": "markdown",
   "id": "c5777471",
   "metadata": {},
   "source": [
    "- define a function with lambda (or other preferred method) to calculate sentiment polarity for each row of the filtered review data set, as a new column on the data frame. (image clothing_sentiment_allrows.png)"
   ]
  },
  {
   "cell_type": "code",
   "execution_count": 92,
   "id": "4e625fc3",
   "metadata": {},
   "outputs": [],
   "source": [
    "def get_polarity(text):\n",
    "    return TextBlob(text).sentiment.polarity"
   ]
  },
  {
   "cell_type": "code",
   "execution_count": 93,
   "id": "64a5d797",
   "metadata": {},
   "outputs": [
    {
     "name": "stderr",
     "output_type": "stream",
     "text": [
      "<ipython-input-93-fa2345fe6bab>:1: SettingWithCopyWarning: \n",
      "A value is trying to be set on a copy of a slice from a DataFrame.\n",
      "Try using .loc[row_indexer,col_indexer] = value instead\n",
      "\n",
      "See the caveats in the documentation: https://pandas.pydata.org/pandas-docs/stable/user_guide/indexing.html#returning-a-view-versus-a-copy\n",
      "  dfr['polarity']= dfr['review_text'].apply(get_polarity)\n"
     ]
    }
   ],
   "source": [
    "dfr['polarity']= dfr['review_text'].apply(get_polarity)"
   ]
  },
  {
   "cell_type": "code",
   "execution_count": 94,
   "id": "d213666c",
   "metadata": {},
   "outputs": [
    {
     "name": "stdout",
     "output_type": "stream",
     "text": [
      "2        0.073675\n",
      "3        0.550000\n",
      "4        0.512891\n",
      "5        0.178750\n",
      "6        0.133750\n",
      "           ...   \n",
      "23481    0.552667\n",
      "23482    0.091667\n",
      "23483    0.414286\n",
      "23484    0.322222\n",
      "23485    0.413889\n",
      "Name: polarity, Length: 19662, dtype: float64\n"
     ]
    }
   ],
   "source": [
    "print(dfr['polarity'])"
   ]
  },
  {
   "cell_type": "markdown",
   "id": "a25ab5b1",
   "metadata": {},
   "source": [
    "- using the pandas groupby function again, summarise the minimum review polarity, by division and department as a new dataframe (image clothing_min_review.png) - this means whats the lowest sentiment score seen in each department and division - so everything will be less than 0"
   ]
  },
  {
   "cell_type": "code",
   "execution_count": 105,
   "id": "2ec4e972",
   "metadata": {},
   "outputs": [],
   "source": [
    "dfr_div_dep = dfr.groupby(['division_name', 'department_name']).agg({'rating':'mean'}).reset_index()"
   ]
  },
  {
   "cell_type": "code",
   "execution_count": 106,
   "id": "e8fb21d2",
   "metadata": {},
   "outputs": [],
   "source": [
    "dfr_div_dep[\"div_dep\"] = dfr_div_dep['division_name'] + \" \" + dfr_div_dep['department_name']"
   ]
  },
  {
   "cell_type": "code",
   "execution_count": 109,
   "id": "895b7833",
   "metadata": {},
   "outputs": [
    {
     "data": {
      "text/plain": [
       "<AxesSubplot:ylabel='div_dep'>"
      ]
     },
     "execution_count": 109,
     "metadata": {},
     "output_type": "execute_result"
    },
    {
     "data": {
      "image/png": "[encoded data removed]",
      "text/plain": [
       "<Figure size 432x288 with 1 Axes>"
      ]
     },
     "metadata": {
      "needs_background": "light"
     },
     "output_type": "display_data"
    }
   ],
   "source": [
    "dfr_div_dep.plot(kind='barh', y='rating', x='div_dep')"
   ]
  },
  {
   "cell_type": "markdown",
   "id": "790d8f2c",
   "metadata": {},
   "source": [
    "- using the pandas groupby function again, summarise the minimum review polarity, by division and department as a new dataframe (image clothing_min_review.png) - this means whats the lowest sentiment score seen in each department and division - so everything will be less than 0"
   ]
  },
  {
   "cell_type": "code",
   "execution_count": 114,
   "id": "50833fa4",
   "metadata": {},
   "outputs": [],
   "source": [
    "df_min_pol = dfr.groupby(['division_name', 'department_name']).agg({'polarity':'min'}).reset_index()"
   ]
  },
  {
   "cell_type": "code",
   "execution_count": 115,
   "id": "e748d825",
   "metadata": {},
   "outputs": [],
   "source": [
    "df_min_pol['div_dep'] = df_min_pol['division_name'] + \" \" + df_min_pol['department_name']"
   ]
  },
  {
   "cell_type": "markdown",
   "id": "9c15d441",
   "metadata": {},
   "source": [
    "visualise this summary as a simple sorted bar chart (image clothing_min_review_chart.png)"
   ]
  },
  {
   "cell_type": "code",
   "execution_count": 116,
   "id": "ef20a946",
   "metadata": {},
   "outputs": [
    {
     "data": {
      "text/plain": [
       "<AxesSubplot:ylabel='div_dep'>"
      ]
     },
     "execution_count": 116,
     "metadata": {},
     "output_type": "execute_result"
    },
    {
     "data": {
      "image/png": "[encoded data removed]",
      "text/plain": [
       "<Figure size 432x288 with 1 Axes>"
      ]
     },
     "metadata": {
      "needs_background": "light"
     },
     "output_type": "display_data"
    }
   ],
   "source": [
    "df_min_pol = df_min_pol.sort_values(by='polarity')\n",
    "df_min_pol.plot(kind=\"barh\", y='polarity', x='div_dep')"
   ]
  },
  {
   "cell_type": "code",
   "execution_count": null,
   "id": "e12dffa1",
   "metadata": {},
   "outputs": [],
   "source": []
  }
 ],
 "metadata": {
  "kernelspec": {
   "display_name": "Python 3",
   "language": "python",
   "name": "python3"
  },
  "language_info": {
   "codemirror_mode": {
    "name": "ipython",
    "version": 3
   },
   "file_extension": ".py",
   "mimetype": "text/x-python",
   "name": "python",
   "nbconvert_exporter": "python",
   "pygments_lexer": "ipython3",
   "version": "3.9.5"
  }
 },
 "nbformat": 4,
 "nbformat_minor": 5
}
