{
 "cells": [
  {
   "cell_type": "markdown",
   "metadata": {},
   "source": [
    "## Web Scraping Lab 1:\n",
    "\n",
    "\n",
    "### Prepare your project:\n",
    "\n",
    "#### Business goal:\n",
    "\n",
    "Make sure you've understood the big picture of your project: the goal of the company (Gnod), their current product (Gnoosic), their strategy, and how your project fits into this context. Re-read the business case and the e-mail from the CTO, take a look at the flowchart and create an initial Trello board with the tasks you think you'll have to acomplish.\n",
    "\n",
    "#### Scraping popular songs:\n",
    "\n",
    "Your product will take a song as an input from the user and will output another song (the recommendation). In most cases, the recommended song will have to be similar to the inputed song, but the CTO thinks that if the song is on the top charts at the moment, the user will enjoy more a recommendation of a song that's also popular at the moment.\n",
    "\n",
    "You have find data on the internet about currently popular songs. Billboard mantains a weekly Top 100 of \"hot\" songs here: https://www.billboard.com/charts/hot-100. \n",
    "\n",
    "It's a good place to start! Scrape the current top 100 songs and their respective artists, and put the information into a pandas dataframe."
   ]
  },
  {
   "cell_type": "code",
   "execution_count": 15,
   "metadata": {},
   "outputs": [],
   "source": [
    "import pandas as pd\n",
    "from bs4 import BeautifulSoup\n",
    "from lxml import etree\n",
    "from io import StringIO\n",
    "import requests\n",
    "\n",
    "# 2. find url and store it in avariable\n",
    "url = \"https://www.billboard.com/charts/hot-100\"\n",
    "\n",
    "# 3. download html with a get request\n",
    "response = requests.get(url)"
   ]
  },
  {
   "cell_type": "code",
   "execution_count": 27,
   "metadata": {},
   "outputs": [
    {
     "ename": "KeyError",
     "evalue": "1",
     "output_type": "error",
     "traceback": [
      "\u001b[0;31m---------------------------------------------------------------------------\u001b[0m",
      "\u001b[0;31mKeyError\u001b[0m                                  Traceback (most recent call last)",
      "\u001b[0;32m<ipython-input-27-176dd32b010b>\u001b[0m in \u001b[0;36m<module>\u001b[0;34m\u001b[0m\n\u001b[0;32m----> 1\u001b[0;31m \u001b[0;32mfor\u001b[0m \u001b[0mi\u001b[0m \u001b[0;32min\u001b[0m \u001b[0msoup\u001b[0m\u001b[0;34m.\u001b[0m\u001b[0mfind_all\u001b[0m\u001b[0;34m(\u001b[0m\u001b[0;34m'span'\u001b[0m\u001b[0;34m,\u001b[0m\u001b[0;34m{\u001b[0m\u001b[0;34m'class'\u001b[0m\u001b[0;34m:\u001b[0m\u001b[0;34m'span.chart-element__information'\u001b[0m\u001b[0;34m}\u001b[0m\u001b[0;34m[\u001b[0m\u001b[0;36m1\u001b[0m\u001b[0;34m]\u001b[0m\u001b[0;34m)\u001b[0m\u001b[0;34m:\u001b[0m\u001b[0;34m\u001b[0m\u001b[0;34m\u001b[0m\u001b[0m\n\u001b[0m\u001b[1;32m      2\u001b[0m     \u001b[0mprint\u001b[0m\u001b[0;34m(\u001b[0m\u001b[0mi\u001b[0m\u001b[0;34m.\u001b[0m\u001b[0mget_text\u001b[0m\u001b[0;34m)\u001b[0m\u001b[0;34m\u001b[0m\u001b[0;34m\u001b[0m\u001b[0m\n\u001b[1;32m      3\u001b[0m \u001b[0;34m\u001b[0m\u001b[0m\n",
      "\u001b[0;31mKeyError\u001b[0m: 1"
     ]
    }
   ],
   "source": [
    "response.status_code"
   ]
  },
  {
   "cell_type": "code",
   "execution_count": null,
   "metadata": {},
   "outputs": [],
   "source": [
    "soup=BeautifulSoup(response.content, 'html.parser')"
   ]
  },
  {
   "cell_type": "code",
   "execution_count": 38,
   "metadata": {},
   "outputs": [
    {
     "data": {
      "text/plain": [
       "'Good 4 U'"
      ]
     },
     "execution_count": 38,
     "metadata": {},
     "output_type": "execute_result"
    }
   ],
   "source": [
    "soup.select('span.chart-element__information__song')[1].text"
   ]
  },
  {
   "cell_type": "code",
   "execution_count": 39,
   "metadata": {},
   "outputs": [
    {
     "data": {
      "text/plain": [
       "'Olivia Rodrigo'"
      ]
     },
     "execution_count": 39,
     "metadata": {},
     "output_type": "execute_result"
    }
   ],
   "source": [
    "soup.select('span.chart-element__information__artist')[1].text"
   ]
  },
  {
   "cell_type": "code",
   "execution_count": 43,
   "metadata": {},
   "outputs": [],
   "source": [
    "from tqdm.notebook import tqdm\n",
    "artist=[]\n",
    "song=[]\n",
    "rank=[]\n",
    "\n",
    "len_songs=len(soup.select('span.chart-element__information__song'))"
   ]
  },
  {
   "cell_type": "code",
   "execution_count": 45,
   "metadata": {},
   "outputs": [
    {
     "data": {
      "application/vnd.jupyter.widget-view+json": {
       "model_id": "c11cf0e8be214cfdaa76404340cd909a",
       "version_major": 2,
       "version_minor": 0
      },
      "text/plain": [
       "  0%|          | 0/100 [00:00<?, ?it/s]"
      ]
     },
     "metadata": {},
     "output_type": "display_data"
    }
   ],
   "source": [
    "for i in tqdm(range(len_songs)):\n",
    "    song.append(soup.select('span.chart-element__information__song')[i].text)\n",
    "    artist.append(soup.select('span.chart-element__information__artist')[i].text)\n",
    "    "
   ]
  },
  {
   "cell_type": "code",
   "execution_count": 47,
   "metadata": {},
   "outputs": [
    {
     "data": {
      "text/plain": [
       "['Butter',\n",
       " 'Good 4 U',\n",
       " 'Kiss Me More',\n",
       " 'Levitating',\n",
       " 'Bad Habits',\n",
       " 'Leave The Door Open',\n",
       " 'Peaches',\n",
       " 'Montero (Call Me By Your Name)',\n",
       " 'Save Your Tears',\n",
       " 'Deja Vu',\n",
       " 'You Right',\n",
       " 'Astronaut In The Ocean',\n",
       " 'Rapstar',\n",
       " 'WUSYANAME',\n",
       " 'Without You',\n",
       " 'Thot Shit',\n",
       " 'Beautiful Mistakes',\n",
       " 'Blinding Lights',\n",
       " 'Forever After All',\n",
       " 'Heartbreak Anniversary',\n",
       " 'Famous Friends',\n",
       " 'Best Friend',\n",
       " 'Lil Bit',\n",
       " \"Ain't Shit\",\n",
       " 'Heat Waves',\n",
       " 'Wants And Needs',\n",
       " 'Yonaguni',\n",
       " 'Every Chance I Get',\n",
       " 'Drivers License',\n",
       " 'Telepatia',\n",
       " 'Leave Before You Love Me',\n",
       " 'Todo de Ti',\n",
       " 'Late At Night',\n",
       " 'Fancy Like',\n",
       " 'Blame It On You',\n",
       " 'pov',\n",
       " 'Mood',\n",
       " 'Gone',\n",
       " 'Traitor',\n",
       " 'Juggernaut',\n",
       " 'AM',\n",
       " 'Lemonhead',\n",
       " \"My Ex's Best Friend\",\n",
       " 'Wockesha',\n",
       " 'Lumberjack',\n",
       " 'Calling My Phone',\n",
       " 'Almost Maybes',\n",
       " 'Hot Wind Blows',\n",
       " 'Need To Know',\n",
       " \"Drinkin' Beer. Talkin' God. Amen.\",\n",
       " 'Red Light Green Light',\n",
       " 'Settling Down',\n",
       " 'Single Saturday Night',\n",
       " 'Glad You Exist',\n",
       " 'Corso',\n",
       " 'Ball If I Want To',\n",
       " \"I Don't Do Drugs\",\n",
       " 'Happier',\n",
       " 'Sir Baudelaire',\n",
       " 'Sweet / I Thought You Wanted To Dance',\n",
       " 'Straightenin',\n",
       " 'Favorite Crime',\n",
       " 'Ski',\n",
       " 'Way Less Sad',\n",
       " 'my.life',\n",
       " 'Massa',\n",
       " 'Build A Bitch',\n",
       " 'RunItUp',\n",
       " 'Arcade',\n",
       " 'Things A Man Oughta Know',\n",
       " 'Track Star',\n",
       " 'Hats Off',\n",
       " 'Brutal',\n",
       " 'One Too Many',\n",
       " 'You',\n",
       " \"Drunk (And I Don't Wanna Go Home)\",\n",
       " 'Chasing After You',\n",
       " \"Beggin'\",\n",
       " \"Breaking Up Was Easy In The 90's\",\n",
       " 'Minimum Wage',\n",
       " 'Fiel',\n",
       " 'Having Our Way',\n",
       " 'Made For You',\n",
       " 'Manifesto',\n",
       " 'transparentsoul',\n",
       " 'Country Again',\n",
       " \"We Didn't Have Much\",\n",
       " 'Woman',\n",
       " 'Jealousy, Jealousy',\n",
       " 'Follow You',\n",
       " 'Come Through',\n",
       " '4 Da Gang',\n",
       " 'Get Into It (Yuh)',\n",
       " 'Waves',\n",
       " 'Wilshire',\n",
       " 'Twerkulator',\n",
       " 'Tombstone',\n",
       " 'Miss The Rage',\n",
       " 'Rise!',\n",
       " 'Working']"
      ]
     },
     "execution_count": 47,
     "metadata": {},
     "output_type": "execute_result"
    }
   ],
   "source": [
    "song"
   ]
  },
  {
   "cell_type": "code",
   "execution_count": 48,
   "metadata": {},
   "outputs": [
    {
     "data": {
      "text/plain": [
       "['BTS',\n",
       " 'Olivia Rodrigo',\n",
       " 'Doja Cat Featuring SZA',\n",
       " 'Dua Lipa Featuring DaBaby',\n",
       " 'Ed Sheeran',\n",
       " 'Silk Sonic (Bruno Mars & Anderson .Paak)',\n",
       " 'Justin Bieber Featuring Daniel Caesar & Giveon',\n",
       " 'Lil Nas X',\n",
       " 'The Weeknd & Ariana Grande',\n",
       " 'Olivia Rodrigo',\n",
       " 'Doja Cat & The Weeknd',\n",
       " 'Masked Wolf',\n",
       " 'Polo G',\n",
       " 'Tyler, The Creator Featuring YoungBoy Never Broke Again & Ty Dolla $ign',\n",
       " 'The Kid LAROI',\n",
       " 'Megan Thee Stallion',\n",
       " 'Maroon 5 Featuring Megan Thee Stallion',\n",
       " 'The Weeknd',\n",
       " 'Luke Combs',\n",
       " 'Giveon',\n",
       " 'Chris Young + Kane Brown',\n",
       " 'Saweetie Featuring Doja Cat',\n",
       " 'Nelly & Florida Georgia Line',\n",
       " 'Doja Cat',\n",
       " 'Glass Animals',\n",
       " 'Drake Featuring Lil Baby',\n",
       " 'Bad Bunny',\n",
       " 'DJ Khaled Featuring Lil Baby & Lil Durk',\n",
       " 'Olivia Rodrigo',\n",
       " 'Kali Uchis',\n",
       " 'Marshmello X Jonas Brothers',\n",
       " 'Rauw Alejandro',\n",
       " 'Roddy Ricch',\n",
       " 'Walker Hayes',\n",
       " 'Jason Aldean',\n",
       " 'Ariana Grande',\n",
       " '24kGoldn Featuring iann dior',\n",
       " 'Dierks Bentley',\n",
       " 'Olivia Rodrigo',\n",
       " 'Tyler, The Creator Featuring Lil Uzi Vert & Pharrell Williams',\n",
       " 'Nio Garcia X J Balvin X Bad Bunny',\n",
       " 'Tyler, The Creator Featuring 42 Dugg',\n",
       " 'Machine Gun Kelly X blackbear',\n",
       " 'Moneybagg Yo',\n",
       " 'Tyler, The Creator',\n",
       " 'Lil Tjay Featuring 6LACK',\n",
       " 'Jordan Davis',\n",
       " 'Tyler, The Creator Featuring Lil Wayne',\n",
       " 'Doja Cat',\n",
       " 'Chase Rice Featuring Florida Georgia Line',\n",
       " 'DaBaby',\n",
       " 'Miranda Lambert',\n",
       " 'Cole Swindell',\n",
       " 'Dan + Shay',\n",
       " 'Tyler, The Creator',\n",
       " 'DaBaby',\n",
       " 'Doja Cat Featuring Ariana Grande',\n",
       " 'Olivia Rodrigo',\n",
       " 'Tyler, The Creator Featuring DJ Drama',\n",
       " 'Tyler, The Creator Featuring Brent Faiyaz & Fana Hues',\n",
       " 'Migos',\n",
       " 'Olivia Rodrigo',\n",
       " 'Young Thug & Gunna',\n",
       " 'AJR',\n",
       " 'J. Cole, 21 Savage & Morray',\n",
       " 'Tyler, The Creator',\n",
       " 'Bella Poarch',\n",
       " 'Tyler, The Creator Featuring Teezo Touchdown',\n",
       " 'Duncan Laurence',\n",
       " 'Lainey Wilson',\n",
       " 'Mooski',\n",
       " 'Lil Baby, Lil Durk & Travis Scott',\n",
       " 'Olivia Rodrigo',\n",
       " 'Keith Urban Duet With P!nk',\n",
       " 'Regard x Troye Sivan x Tate McRae',\n",
       " 'Elle King & Miranda Lambert',\n",
       " 'Ryan Hurd With Maren Morris',\n",
       " 'Maneskin',\n",
       " 'Sam Hunt',\n",
       " 'Blake Shelton',\n",
       " 'Los Legendarios, Wisin & Jhay Cortez',\n",
       " 'Migos Featuring Drake',\n",
       " 'Jake Owen',\n",
       " 'Tyler, The Creator Featuring Domo Genesis',\n",
       " 'Willow Featuring Travis Barker',\n",
       " 'Thomas Rhett',\n",
       " 'Justin Moore',\n",
       " 'Doja Cat',\n",
       " 'Olivia Rodrigo',\n",
       " 'Imagine Dragons',\n",
       " 'H.E.R. Featuring Chris Brown',\n",
       " '42 Dugg & Roddy Ricch',\n",
       " 'Doja Cat',\n",
       " 'Luke Bryan',\n",
       " 'Tyler, The Creator',\n",
       " 'City Girls',\n",
       " 'Rod Wave',\n",
       " 'Trippie Redd & Playboi Carti',\n",
       " 'Tyler, The Creator Featuring Daisy World',\n",
       " 'Tate McRae X Khalid']"
      ]
     },
     "execution_count": 48,
     "metadata": {},
     "output_type": "execute_result"
    }
   ],
   "source": [
    "artist"
   ]
  },
  {
   "cell_type": "code",
   "execution_count": 52,
   "metadata": {},
   "outputs": [],
   "source": [
    "top100=pd.DataFrame({'song':song, 'artist':artist})"
   ]
  },
  {
   "cell_type": "code",
   "execution_count": 53,
   "metadata": {},
   "outputs": [
    {
     "data": {
      "text/html": [
       "<div>\n",
       "<style scoped>\n",
       "    .dataframe tbody tr th:only-of-type {\n",
       "        vertical-align: middle;\n",
       "    }\n",
       "\n",
       "    .dataframe tbody tr th {\n",
       "        vertical-align: top;\n",
       "    }\n",
       "\n",
       "    .dataframe thead th {\n",
       "        text-align: right;\n",
       "    }\n",
       "</style>\n",
       "<table border=\"1\" class=\"dataframe\">\n",
       "  <thead>\n",
       "    <tr style=\"text-align: right;\">\n",
       "      <th></th>\n",
       "      <th>song</th>\n",
       "      <th>artist</th>\n",
       "    </tr>\n",
       "  </thead>\n",
       "  <tbody>\n",
       "    <tr>\n",
       "      <th>0</th>\n",
       "      <td>Butter</td>\n",
       "      <td>BTS</td>\n",
       "    </tr>\n",
       "    <tr>\n",
       "      <th>1</th>\n",
       "      <td>Good 4 U</td>\n",
       "      <td>Olivia Rodrigo</td>\n",
       "    </tr>\n",
       "    <tr>\n",
       "      <th>2</th>\n",
       "      <td>Kiss Me More</td>\n",
       "      <td>Doja Cat Featuring SZA</td>\n",
       "    </tr>\n",
       "    <tr>\n",
       "      <th>3</th>\n",
       "      <td>Levitating</td>\n",
       "      <td>Dua Lipa Featuring DaBaby</td>\n",
       "    </tr>\n",
       "    <tr>\n",
       "      <th>4</th>\n",
       "      <td>Bad Habits</td>\n",
       "      <td>Ed Sheeran</td>\n",
       "    </tr>\n",
       "    <tr>\n",
       "      <th>...</th>\n",
       "      <td>...</td>\n",
       "      <td>...</td>\n",
       "    </tr>\n",
       "    <tr>\n",
       "      <th>95</th>\n",
       "      <td>Twerkulator</td>\n",
       "      <td>City Girls</td>\n",
       "    </tr>\n",
       "    <tr>\n",
       "      <th>96</th>\n",
       "      <td>Tombstone</td>\n",
       "      <td>Rod Wave</td>\n",
       "    </tr>\n",
       "    <tr>\n",
       "      <th>97</th>\n",
       "      <td>Miss The Rage</td>\n",
       "      <td>Trippie Redd &amp; Playboi Carti</td>\n",
       "    </tr>\n",
       "    <tr>\n",
       "      <th>98</th>\n",
       "      <td>Rise!</td>\n",
       "      <td>Tyler, The Creator Featuring Daisy World</td>\n",
       "    </tr>\n",
       "    <tr>\n",
       "      <th>99</th>\n",
       "      <td>Working</td>\n",
       "      <td>Tate McRae X Khalid</td>\n",
       "    </tr>\n",
       "  </tbody>\n",
       "</table>\n",
       "<p>100 rows × 2 columns</p>\n",
       "</div>"
      ],
      "text/plain": [
       "             song                                    artist\n",
       "0          Butter                                       BTS\n",
       "1        Good 4 U                            Olivia Rodrigo\n",
       "2    Kiss Me More                    Doja Cat Featuring SZA\n",
       "3      Levitating                 Dua Lipa Featuring DaBaby\n",
       "4      Bad Habits                                Ed Sheeran\n",
       "..            ...                                       ...\n",
       "95    Twerkulator                                City Girls\n",
       "96      Tombstone                                  Rod Wave\n",
       "97  Miss The Rage              Trippie Redd & Playboi Carti\n",
       "98          Rise!  Tyler, The Creator Featuring Daisy World\n",
       "99        Working                       Tate McRae X Khalid\n",
       "\n",
       "[100 rows x 2 columns]"
      ]
     },
     "execution_count": 53,
     "metadata": {},
     "output_type": "execute_result"
    }
   ],
   "source": [
    "top100"
   ]
  },
  {
   "cell_type": "code",
   "execution_count": 84,
   "metadata": {},
   "outputs": [],
   "source": [
    "import random"
   ]
  },
  {
   "cell_type": "code",
   "execution_count": null,
   "metadata": {},
   "outputs": [],
   "source": [
    "def user_song():\n",
    "    u_song = input(\"Which song do you want to listen? \")\n",
    "    if top['song'].isin(u_song): \n",
    "        print('We recommend you :',top_100['song'].shuffle)\n",
    "    else:\n",
    "        print('No recommendation for you')"
   ]
  },
  {
   "cell_type": "code",
   "execution_count": 46,
   "metadata": {},
   "outputs": [
    {
     "data": {
      "text/plain": [
       "[<span class=\"chart-element__rank flex--column flex--xy-center flex--no-shrink\">\n",
       " <span class=\"chart-element__rank__number\">1</span>\n",
       " <span class=\"chart-element__trend chart-element__trend--steady color--secondary\"><i class=\"fa fa-arrow-right\"><span class=\"sr--only\">Steady</span></i></span>\n",
       " </span>,\n",
       " '\\n1\\nSteady\\n',\n",
       " '\\n2\\nSteady\\n',\n",
       " '\\n3\\nRising\\n',\n",
       " '\\n4\\nFailing\\n',\n",
       " '\\n5\\nNew\\n',\n",
       " '\\n6\\nSteady\\n',\n",
       " '\\n7\\nFailing\\n',\n",
       " '\\n8\\nSteady\\n',\n",
       " '\\n9\\nFailing\\n',\n",
       " '\\n10\\nFailing\\n',\n",
       " '\\n11\\nNew\\n',\n",
       " '\\n12\\nFailing\\n',\n",
       " '\\n13\\nFailing\\n',\n",
       " '\\n14\\nNew\\n',\n",
       " '\\n15\\nFailing\\n',\n",
       " '\\n16\\nRising\\n',\n",
       " '\\n17\\nFailing\\n',\n",
       " '\\n18\\nFailing\\n',\n",
       " '\\n19\\nFailing\\n',\n",
       " '\\n20\\nFailing\\n',\n",
       " '\\n21\\nSteady\\n',\n",
       " '\\n22\\nFailing\\n',\n",
       " '\\n23\\nRising\\n',\n",
       " '\\n24\\nNew\\n',\n",
       " '\\n25\\nFailing\\n',\n",
       " '\\n26\\nFailing\\n',\n",
       " '\\n27\\nFailing\\n',\n",
       " '\\n28\\nRising\\n',\n",
       " '\\n29\\nFailing\\n',\n",
       " '\\n30\\nFailing\\n',\n",
       " '\\n31\\nRising\\n',\n",
       " '\\n32\\nRising\\n',\n",
       " '\\n33\\nFailing\\n',\n",
       " '\\n34\\nRising\\n',\n",
       " '\\n35\\nFailing\\n',\n",
       " '\\n36\\nFailing\\n',\n",
       " '\\n37\\nFailing\\n',\n",
       " '\\n38\\nFailing\\n',\n",
       " '\\n39\\nFailing\\n',\n",
       " '\\n40\\nNew\\n',\n",
       " '\\n41\\nNew\\n',\n",
       " '\\n42\\nNew\\n',\n",
       " '\\n43\\nFailing\\n',\n",
       " '\\n44\\nFailing\\n',\n",
       " '\\n45\\nRising\\n',\n",
       " '\\n46\\nFailing\\n',\n",
       " '\\n47\\nFailing\\n',\n",
       " '\\n48\\nNew\\n',\n",
       " '\\n49\\nRising\\n',\n",
       " '\\n50\\nRising\\n',\n",
       " '\\n51\\nNew\\n',\n",
       " '\\n52\\nFailing\\n',\n",
       " '\\n53\\nFailing\\n',\n",
       " '\\n54\\nFailing\\n',\n",
       " '\\n55\\nNew\\n',\n",
       " '\\n56\\nFailing\\n',\n",
       " '\\n57\\nNew\\n',\n",
       " '\\n58\\nFailing\\n',\n",
       " '\\n59\\nNew\\n',\n",
       " '\\n60\\nNew\\n',\n",
       " '\\n61\\nFailing\\n',\n",
       " '\\n62\\nFailing\\n',\n",
       " '\\n63\\nFailing\\n',\n",
       " '\\n64\\nFailing\\n',\n",
       " '\\n65\\nFailing\\n',\n",
       " '\\n66\\nNew\\n',\n",
       " '\\n67\\nFailing\\n',\n",
       " '\\n68\\nNew\\n',\n",
       " '\\n69\\nFailing\\n',\n",
       " '\\n70\\nFailing\\n',\n",
       " '\\n71\\nFailing\\n',\n",
       " '\\n72\\nFailing\\n',\n",
       " '\\n73\\nFailing\\n',\n",
       " '\\n74\\nFailing\\n',\n",
       " '\\n75\\nFailing\\n',\n",
       " '\\n76\\nFailing\\n',\n",
       " '\\n77\\nRising\\n',\n",
       " '\\n78\\nNew\\n',\n",
       " '\\n79\\nFailing\\n',\n",
       " '\\n80\\nFailing\\n',\n",
       " '\\n81\\nFailing\\n',\n",
       " '\\n82\\nFailing\\n',\n",
       " '\\n83\\nFailing\\n',\n",
       " '\\n84\\nNew\\n',\n",
       " '\\n85\\nFailing\\n',\n",
       " '\\n86\\nFailing\\n',\n",
       " '\\n87\\nFailing\\n',\n",
       " '\\n88\\nNew\\n',\n",
       " '\\n89\\nFailing\\n',\n",
       " '\\n90\\nFailing\\n',\n",
       " '\\n91\\nFailing\\n',\n",
       " '\\n92\\nFailing\\n',\n",
       " '\\n93\\nNew\\n',\n",
       " '\\n94\\nFailing\\n',\n",
       " '\\n95\\nNew\\n',\n",
       " '\\n96\\nSteady\\n',\n",
       " '\\n97\\nFailing\\n',\n",
       " '\\n98\\nFailing\\n',\n",
       " '\\n99\\nNew\\n',\n",
       " '\\n100\\nFailing\\n']"
      ]
     },
     "execution_count": 46,
     "metadata": {},
     "output_type": "execute_result"
    }
   ],
   "source": []
  },
  {
   "cell_type": "code",
   "execution_count": null,
   "metadata": {},
   "outputs": [],
   "source": []
  },
  {
   "cell_type": "code",
   "execution_count": null,
   "metadata": {},
   "outputs": [],
   "source": []
  },
  {
   "cell_type": "markdown",
   "metadata": {},
   "source": [
    "### Bonus"
   ]
  },
  {
   "cell_type": "code",
   "execution_count": 63,
   "metadata": {},
   "outputs": [],
   "source": [
    "url2 = \"https://www.rollingstone.com/music/music-lists/500-greatest-songs-of-all-time-151127\"\n",
    "response = requests.get(url2)"
   ]
  },
  {
   "cell_type": "code",
   "execution_count": 64,
   "metadata": {},
   "outputs": [
    {
     "data": {
      "text/plain": [
       "200"
      ]
     },
     "execution_count": 64,
     "metadata": {},
     "output_type": "execute_result"
    }
   ],
   "source": [
    "response.status_code"
   ]
  },
  {
   "cell_type": "code",
   "execution_count": 65,
   "metadata": {},
   "outputs": [],
   "source": [
    "soup2=BeautifulSoup(response.content, 'html.parser')"
   ]
  },
  {
   "cell_type": "code",
   "execution_count": null,
   "metadata": {},
   "outputs": [],
   "source": [
    "soup2"
   ]
  },
  {
   "cell_type": "code",
   "execution_count": 67,
   "metadata": {},
   "outputs": [
    {
     "data": {
      "text/plain": [
       "[]"
      ]
     },
     "execution_count": 67,
     "metadata": {},
     "output_type": "execute_result"
    }
   ],
   "source": [
    "soup.select('h2.c-gallery-vertical-album_title')\n",
    "\n",
    " \n",
    "\n",
    "\n"
   ]
  },
  {
   "cell_type": "markdown",
   "metadata": {},
   "source": [
    "Can you find other websites with lists of \"hot\" songs? What about songs that were popular on a certain decade? \n",
    "\n",
    "You can scrape more lists and add extra features to the project."
   ]
  },
  {
   "cell_type": "code",
   "execution_count": null,
   "metadata": {},
   "outputs": [],
   "source": []
  }
 ],
 "metadata": {
  "kernelspec": {
   "display_name": "Python 3",
   "language": "python",
   "name": "python3"
  },
  "language_info": {
   "codemirror_mode": {
    "name": "ipython",
    "version": 3
   },
   "file_extension": ".py",
   "mimetype": "text/x-python",
   "name": "python",
   "nbconvert_exporter": "python",
   "pygments_lexer": "ipython3",
   "version": "3.9.5"
  },
  "toc": {
   "base_numbering": 1,
   "nav_menu": {},
   "number_sections": true,
   "sideBar": true,
   "skip_h1_title": false,
   "title_cell": "Table of Contents",
   "title_sidebar": "Contents",
   "toc_cell": false,
   "toc_position": {},
   "toc_section_display": true,
   "toc_window_display": false
  },
  "varInspector": {
   "cols": {
    "lenName": 16,
    "lenType": 16,
    "lenVar": 40
   },
   "kernels_config": {
    "python": {
     "delete_cmd_postfix": "",
     "delete_cmd_prefix": "del ",
     "library": "var_list.py",
     "varRefreshCmd": "print(var_dic_list())"
    },
    "r": {
     "delete_cmd_postfix": ") ",
     "delete_cmd_prefix": "rm(",
     "library": "var_list.r",
     "varRefreshCmd": "cat(var_dic_list()) "
    }
   },
   "types_to_exclude": [
    "module",
    "function",
    "builtin_function_or_method",
    "instance",
    "_Feature"
   ],
   "window_display": false
  }
 },
 "nbformat": 4,
 "nbformat_minor": 4
}
